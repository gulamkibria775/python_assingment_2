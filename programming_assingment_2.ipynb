{
 "cells": [
  {
   "cell_type": "markdown",
   "metadata": {},
   "source": [
    "1. Write a Python program to convert kilometers to miles?\n",
    "Ans:-"
   ]
  },
  {
   "cell_type": "code",
   "execution_count": 5,
   "metadata": {},
   "outputs": [
    {
     "name": "stdout",
     "output_type": "stream",
     "text": [
      "Enter a kilometers for convert in miles:1\n",
      "\n",
      "1.0 kilometers is equal 0.62 mile\n"
     ]
    }
   ],
   "source": [
    "n=float(input(\"Enter a kilometers for convert in miles:\"))\n",
    "mile=n*.62\n",
    "print(\"\\n{0} kilometers is equal {1} mile\".format(n,mile))"
   ]
  },
  {
   "cell_type": "markdown",
   "metadata": {},
   "source": [
    "2. Write a Python program to convert Celsius to Fahrenheit?\n",
    "\n",
    "Ans:-"
   ]
  },
  {
   "cell_type": "code",
   "execution_count": 8,
   "metadata": {},
   "outputs": [
    {
     "name": "stdout",
     "output_type": "stream",
     "text": [
      "Enter a celcius for convert to Fahrenheit:10\n",
      "10.0 celcius equat to 50.0 fahrenheit\n"
     ]
    }
   ],
   "source": [
    "c=float(input(\"Enter a celcius for convert to Fahrenheit:\"))\n",
    "f=c*1.8+32\n",
    "print(\"{0} celcius equat to {1} fahrenheit\".format(c,f))"
   ]
  },
  {
   "cell_type": "markdown",
   "metadata": {},
   "source": [
    "3. Write a Python program to display calendar?\n",
    "Ans:-"
   ]
  },
  {
   "cell_type": "code",
   "execution_count": 11,
   "metadata": {},
   "outputs": [
    {
     "name": "stdout",
     "output_type": "stream",
     "text": [
      "Enter Year:2025\n",
      "Enter Month:12\n",
      "   December 2025\n",
      "Mo Tu We Th Fr Sa Su\n",
      " 1  2  3  4  5  6  7\n",
      " 8  9 10 11 12 13 14\n",
      "15 16 17 18 19 20 21\n",
      "22 23 24 25 26 27 28\n",
      "29 30 31\n",
      "\n"
     ]
    }
   ],
   "source": [
    "import calendar\n",
    "yy=int(input(\"Enter Year:\"))\n",
    "mm=int(input(\"Enter Month:\"))\n",
    "print(calendar.month(yy,mm))"
   ]
  },
  {
   "cell_type": "markdown",
   "metadata": {},
   "source": [
    "4. Write a Python program to solve quadratic equation?\n",
    "Ans:-"
   ]
  },
  {
   "cell_type": "code",
   "execution_count": 3,
   "metadata": {},
   "outputs": [
    {
     "name": "stdout",
     "output_type": "stream",
     "text": [
      "aX^2+bX+c\n",
      "enter a:1\n",
      "entr b:4\n",
      "enter c:4\n",
      "the solution are x1:(-4+0j) and x2:(-4+0j)\n"
     ]
    }
   ],
   "source": [
    "import cmath\n",
    "\n",
    "print(\"aX^2+bX+c\")\n",
    "\n",
    "a=float(input(\"enter a:\"))\n",
    "b=float(input(\"entr b:\"))\n",
    "c=float(input(\"enter c:\"))\n",
    "d=(b**2)-(4*a*c)\n",
    "x1=(-b+cmath.sqrt(d)/(2*a))\n",
    "x2=-b-cmath.sqrt(d)/(2*a)\n",
    "print(\"the solution are x1:{0} and x2:{1}\".format(x1,x2))"
   ]
  },
  {
   "cell_type": "markdown",
   "metadata": {},
   "source": [
    "5. Write a Python program to swap two variables without temp variable?\n",
    "Ans:-"
   ]
  },
  {
   "cell_type": "code",
   "execution_count": 4,
   "metadata": {},
   "outputs": [
    {
     "name": "stdout",
     "output_type": "stream",
     "text": [
      "enter first number:10\n",
      "enter second number:20\n",
      "before swapping\n",
      "a=10 and b=20\n",
      "After swapping\n",
      "a=20 and b=10\n"
     ]
    }
   ],
   "source": [
    "a=int(input('enter first number:'))\n",
    "b=int(input(\"enter second number:\"))\n",
    "print(\"before swapping\")\n",
    "print(\"a={0} and b={1}\".format(a,b))\n",
    "a,b=b,a\n",
    "print(\"After swapping\")\n",
    "print(\"a={0} and b={1}\".format(a,b))"
   ]
  },
  {
   "cell_type": "code",
   "execution_count": null,
   "metadata": {},
   "outputs": [],
   "source": []
  }
 ],
 "metadata": {
  "kernelspec": {
   "display_name": "Python 3",
   "language": "python",
   "name": "python3"
  },
  "language_info": {
   "codemirror_mode": {
    "name": "ipython",
    "version": 3
   },
   "file_extension": ".py",
   "mimetype": "text/x-python",
   "name": "python",
   "nbconvert_exporter": "python",
   "pygments_lexer": "ipython3",
   "version": "3.8.5"
  }
 },
 "nbformat": 4,
 "nbformat_minor": 4
}
